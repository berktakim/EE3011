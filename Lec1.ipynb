{
 "cells": [
  {
   "cell_type": "code",
   "execution_count": 2,
   "metadata": {
    "collapsed": false
   },
   "outputs": [],
   "source": [
    "%load_ext tikzmagic\n",
    "import matplotlib\n",
    "import numpy as np\n",
    "import matplotlib.pyplot as plt\n",
    "from matplotlib import rc\n",
    "rc('font',**{'family':'sans-serif','sans-serif':['Helvetica']})\n",
    "## for Palatino and other serif fonts use:\n",
    "#rc('font',**{'family':'serif','serif':['Palatino']})\n",
    "rc('text', usetex=True)\n",
    "import control\n",
    "from control.matlab import *"
   ]
  },
  {
   "cell_type": "markdown",
   "metadata": {
    "nbpresent": {
     "id": "4014c639-7518-48ef-a898-df60781d6e87"
    }
   },
   "source": [
    "<center>EE3011 Modeling and Control Part II</center>\n",
    "\n",
    "<center>Asst Prof. Mo Yilin</center>\n",
    "\n",
    "<center>School of EEE</center>\n",
    "<center>Room:S1-B1c-104; EXT: 4551</center>\n",
    "<center>ylmo@ntu.edu.sg</center>\n"
   ]
  },
  {
   "cell_type": "markdown",
   "metadata": {
    "nbpresent": {
     "id": "a7762000-decc-4be4-b974-bcaaf5ecc3b1"
    }
   },
   "source": [
    "<center>Contents</center>\n",
    "\n",
    "# Frequency Domain Analysis (6 Hours)\n",
    "+ Bode plots of transfer functions\n",
    "+ Frequency domain modeling\n",
    "+ Nyquist stability \n",
    "+ Relative stability\n",
    "\n",
    "# Frequency Domain Design (3 hours)\n",
    "+ Lead compensator\n",
    "+ Lag compensator\n",
    "\n",
    "# PID Tuning (2 hours)\n",
    "\n",
    "# Overview (1 hour)"
   ]
  },
  {
   "cell_type": "markdown",
   "metadata": {
    "nbpresent": {
     "id": "ed0c72fa-4271-4536-a24a-6da1a50fc412"
    }
   },
   "source": [
    "<center>Quizzes</center>\n",
    "\n",
    "# Quiz 3 (8%) \n",
    "- Date: 19-Oct-2016, Wednesday (week 10)\n",
    "- Time: 10:00am-10:20am (during lecture time)\n",
    "- Venue: LT22\n",
    "- Content: Tut#7 and Tut #8\n",
    "\n",
    "# Quiz 4 (8%) \n",
    "- Date: 31-Oct-2016, Monday (Week 12) \n",
    "- Time: 12:00nn-12:20pm (during lecture time)\n",
    "- Content: Tut#9 and Tut#10\n"
   ]
  },
  {
   "cell_type": "markdown",
   "metadata": {},
   "source": [
    "# Text:\n",
    "K. Ogata, Modern Control Engineering, 5th Edition, Prentice Hall, 2010.\n",
    "\n",
    "# References:\n",
    "- [1] R.C. Dorf and R.H. Bishop, Modern Control Systems,9th Edition, Prentice Hall, 2000.\n",
    "- [2] G.E. Franklin, J.D. Powell and A.Emami-Naeini, Feedback Control of Dynamic Systems, 4th Edition, Prentice Hall, 2002. \n",
    "- [3] L. Qiu and K. Zhou, Introduction to Feedback Control, Pearson Education International, 2010.\n",
    "\n"
   ]
  },
  {
   "cell_type": "markdown",
   "metadata": {},
   "source": [
    "Chapter 1 FREQUENCY DOMAIN ANALYSIS \n",
    "# Introduction\n",
    "Review of time domain analysis\n",
    "- System modeling\n",
    "- Time-domain responses systems of control\n",
    "- Routh-Hurwitz Criterion and Root locus for stability analysis\n",
    "- Time-domain specifications:\n",
    "\t+ rise time\n",
    "\t+ settling time\n",
    "\t+ maximum overshoot\n",
    "\t+ steady-state error\n"
   ]
  },
  {
   "cell_type": "markdown",
   "metadata": {
    "nbpresent": {
     "id": "9ac37722-038d-47c4-b8a5-a0e793e954c3"
    }
   },
   "source": [
    "# What is Frequency Response\n",
    "\n",
    "RC-Network\n",
    "\n",
    "\\begin{align*}\n",
    "  \\frac{V_0(s)}{V_i(s)}= \\frac{1/sC}{R+1/sC} = \\frac{1}{\\tau s+1},\\,\\tau=RC.\n",
    "\\end{align*}\n",
    "\n",
    "\\begin{align*}\n",
    "  v_i(t) = 2\\sin(\\omega t+ 30^\\circ)\n",
    "\\end{align*}\n",
    "\n",
    "Assuming $R = 1k\\Omega$, $C = 10^{-4}F$, then $\\tau = 0.1s$."
   ]
  },
  {
   "cell_type": "code",
   "execution_count": 4,
   "metadata": {
    "collapsed": false,
    "nbpresent": {
     "id": "aa84c6d5-b473-4281-928c-c013f96c875a"
    }
   },
   "outputs": [
    {
     "data": {
      "image/svg+xml": [
       "<svg height=\"240px\" version=\"1.1\" viewBox=\"0 0 197.559 107.022\" width=\"400px\" xmlns=\"http://www.w3.org/2000/svg\" xmlns:xlink=\"http://www.w3.org/1999/xlink\">\n",
       "<defs>\n",
       "<g>\n",
       "<symbol id=\"glyph0-0\" overflow=\"visible\">\n",
       "<path d=\"\" style=\"stroke:none;\"/>\n",
       "</symbol>\n",
       "<symbol id=\"glyph0-1\" overflow=\"visible\">\n",
       "<path d=\"M 2.234375 -3.515625 L 2.234375 -6.09375 C 2.234375 -6.328125 2.234375 -6.453125 2.453125 -6.484375 C 2.546875 -6.5 2.84375 -6.5 3.046875 -6.5 C 3.9375 -6.5 5.046875 -6.453125 5.046875 -5.015625 C 5.046875 -4.328125 4.8125 -3.515625 3.34375 -3.515625 Z M 4.34375 -3.390625 C 5.296875 -3.625 6.078125 -4.234375 6.078125 -5.015625 C 6.078125 -5.96875 4.9375 -6.8125 3.484375 -6.8125 L 0.34375 -6.8125 L 0.34375 -6.5 L 0.59375 -6.5 C 1.359375 -6.5 1.375 -6.390625 1.375 -6.03125 L 1.375 -0.78125 C 1.375 -0.421875 1.359375 -0.3125 0.59375 -0.3125 L 0.34375 -0.3125 L 0.34375 0 C 0.703125 -0.03125 1.421875 -0.03125 1.796875 -0.03125 C 2.1875 -0.03125 2.90625 -0.03125 3.265625 0 L 3.265625 -0.3125 L 3.015625 -0.3125 C 2.25 -0.3125 2.234375 -0.421875 2.234375 -0.78125 L 2.234375 -3.296875 L 3.375 -3.296875 C 3.53125 -3.296875 3.953125 -3.296875 4.3125 -2.953125 C 4.6875 -2.609375 4.6875 -2.296875 4.6875 -1.625 C 4.6875 -0.984375 4.6875 -0.578125 5.09375 -0.203125 C 5.5 0.15625 6.046875 0.21875 6.34375 0.21875 C 7.125 0.21875 7.296875 -0.59375 7.296875 -0.875 C 7.296875 -0.9375 7.296875 -1.046875 7.171875 -1.046875 C 7.0625 -1.046875 7.0625 -0.953125 7.046875 -0.890625 C 6.984375 -0.171875 6.640625 0 6.390625 0 C 5.90625 0 5.828125 -0.515625 5.6875 -1.4375 L 5.546875 -2.234375 C 5.375 -2.875 4.890625 -3.203125 4.34375 -3.390625 Z M 4.34375 -3.390625 \" style=\"stroke:none;\"/>\n",
       "</symbol>\n",
       "<symbol id=\"glyph0-2\" overflow=\"visible\">\n",
       "<path d=\"M 0.5625 -3.40625 C 0.5625 -1.34375 2.171875 0.21875 4.03125 0.21875 C 5.65625 0.21875 6.625 -1.171875 6.625 -2.328125 C 6.625 -2.421875 6.625 -2.5 6.5 -2.5 C 6.390625 -2.5 6.390625 -2.4375 6.375 -2.328125 C 6.296875 -0.90625 5.234375 -0.09375 4.140625 -0.09375 C 3.53125 -0.09375 1.578125 -0.421875 1.578125 -3.40625 C 1.578125 -6.375 3.53125 -6.71875 4.140625 -6.71875 C 5.21875 -6.71875 6.109375 -5.8125 6.3125 -4.359375 C 6.328125 -4.21875 6.328125 -4.1875 6.46875 -4.1875 C 6.625 -4.1875 6.625 -4.21875 6.625 -4.421875 L 6.625 -6.78125 C 6.625 -6.953125 6.625 -7.03125 6.515625 -7.03125 C 6.484375 -7.03125 6.4375 -7.03125 6.359375 -6.90625 L 5.859375 -6.171875 C 5.5 -6.53125 4.984375 -7.03125 4.03125 -7.03125 C 2.15625 -7.03125 0.5625 -5.4375 0.5625 -3.40625 Z M 0.5625 -3.40625 \" style=\"stroke:none;\"/>\n",
       "</symbol>\n",
       "<symbol id=\"glyph0-3\" overflow=\"visible\">\n",
       "<path d=\"M 4.078125 -2.296875 L 6.859375 -2.296875 C 7 -2.296875 7.1875 -2.296875 7.1875 -2.5 C 7.1875 -2.6875 7 -2.6875 6.859375 -2.6875 L 4.078125 -2.6875 L 4.078125 -5.484375 C 4.078125 -5.625 4.078125 -5.8125 3.875 -5.8125 C 3.671875 -5.8125 3.671875 -5.625 3.671875 -5.484375 L 3.671875 -2.6875 L 0.890625 -2.6875 C 0.75 -2.6875 0.5625 -2.6875 0.5625 -2.5 C 0.5625 -2.296875 0.75 -2.296875 0.890625 -2.296875 L 3.671875 -2.296875 L 3.671875 0.5 C 3.671875 0.640625 3.671875 0.828125 3.875 0.828125 C 4.078125 0.828125 4.078125 0.640625 4.078125 0.5 Z M 4.078125 -2.296875 \" style=\"stroke:none;\"/>\n",
       "</symbol>\n",
       "<symbol id=\"glyph0-4\" overflow=\"visible\">\n",
       "<path d=\"M 3.296875 2.390625 C 3.296875 2.359375 3.296875 2.34375 3.125 2.171875 C 1.890625 0.921875 1.5625 -0.96875 1.5625 -2.5 C 1.5625 -4.234375 1.9375 -5.96875 3.171875 -7.203125 C 3.296875 -7.328125 3.296875 -7.34375 3.296875 -7.375 C 3.296875 -7.453125 3.265625 -7.484375 3.203125 -7.484375 C 3.09375 -7.484375 2.203125 -6.796875 1.609375 -5.53125 C 1.109375 -4.4375 0.984375 -3.328125 0.984375 -2.5 C 0.984375 -1.71875 1.09375 -0.515625 1.640625 0.625 C 2.25 1.84375 3.09375 2.5 3.203125 2.5 C 3.265625 2.5 3.296875 2.46875 3.296875 2.390625 Z M 3.296875 2.390625 \" style=\"stroke:none;\"/>\n",
       "</symbol>\n",
       "<symbol id=\"glyph0-5\" overflow=\"visible\">\n",
       "<path d=\"M 2.875 -2.5 C 2.875 -3.265625 2.765625 -4.46875 2.21875 -5.609375 C 1.625 -6.828125 0.765625 -7.484375 0.671875 -7.484375 C 0.609375 -7.484375 0.5625 -7.4375 0.5625 -7.375 C 0.5625 -7.34375 0.5625 -7.328125 0.75 -7.140625 C 1.734375 -6.15625 2.296875 -4.578125 2.296875 -2.5 C 2.296875 -0.78125 1.9375 0.96875 0.703125 2.21875 C 0.5625 2.34375 0.5625 2.359375 0.5625 2.390625 C 0.5625 2.453125 0.609375 2.5 0.671875 2.5 C 0.765625 2.5 1.671875 1.8125 2.25 0.546875 C 2.765625 -0.546875 2.875 -1.65625 2.875 -2.5 Z M 2.875 -2.5 \" style=\"stroke:none;\"/>\n",
       "</symbol>\n",
       "<symbol id=\"glyph1-0\" overflow=\"visible\">\n",
       "<path d=\"\" style=\"stroke:none;\"/>\n",
       "</symbol>\n",
       "<symbol id=\"glyph1-1\" overflow=\"visible\">\n",
       "<path d=\"M 5.1875 -1.578125 C 5.296875 -1.578125 5.46875 -1.578125 5.46875 -1.734375 C 5.46875 -1.921875 5.296875 -1.921875 5.1875 -1.921875 L 1.03125 -1.921875 C 0.921875 -1.921875 0.75 -1.921875 0.75 -1.75 C 0.75 -1.578125 0.90625 -1.578125 1.03125 -1.578125 Z M 5.1875 -1.578125 \" style=\"stroke:none;\"/>\n",
       "</symbol>\n",
       "<symbol id=\"glyph2-0\" overflow=\"visible\">\n",
       "<path d=\"\" style=\"stroke:none;\"/>\n",
       "</symbol>\n",
       "<symbol id=\"glyph2-1\" overflow=\"visible\">\n",
       "<path d=\"M 4.671875 -3.703125 C 4.671875 -4.25 4.40625 -4.40625 4.234375 -4.40625 C 3.984375 -4.40625 3.734375 -4.140625 3.734375 -3.921875 C 3.734375 -3.796875 3.78125 -3.734375 3.890625 -3.625 C 4.109375 -3.421875 4.234375 -3.171875 4.234375 -2.8125 C 4.234375 -2.390625 3.625 -0.109375 2.46875 -0.109375 C 1.953125 -0.109375 1.71875 -0.453125 1.71875 -0.984375 C 1.71875 -1.53125 2 -2.265625 2.296875 -3.09375 C 2.375 -3.265625 2.421875 -3.40625 2.421875 -3.59375 C 2.421875 -4.03125 2.109375 -4.40625 1.609375 -4.40625 C 0.671875 -4.40625 0.296875 -2.953125 0.296875 -2.875 C 0.296875 -2.765625 0.390625 -2.765625 0.40625 -2.765625 C 0.515625 -2.765625 0.515625 -2.796875 0.5625 -2.953125 C 0.859375 -3.953125 1.28125 -4.1875 1.578125 -4.1875 C 1.65625 -4.1875 1.828125 -4.1875 1.828125 -3.875 C 1.828125 -3.625 1.71875 -3.34375 1.65625 -3.171875 C 1.21875 -2.015625 1.09375 -1.5625 1.09375 -1.125 C 1.09375 -0.046875 1.96875 0.109375 2.421875 0.109375 C 4.09375 0.109375 4.671875 -3.1875 4.671875 -3.703125 Z M 4.671875 -3.703125 \" style=\"stroke:none;\"/>\n",
       "</symbol>\n",
       "<symbol id=\"glyph2-2\" overflow=\"visible\">\n",
       "<path d=\"M 2.046875 -3.984375 L 2.984375 -3.984375 C 3.1875 -3.984375 3.296875 -3.984375 3.296875 -4.1875 C 3.296875 -4.296875 3.1875 -4.296875 3.015625 -4.296875 L 2.140625 -4.296875 C 2.5 -5.71875 2.546875 -5.90625 2.546875 -5.96875 C 2.546875 -6.140625 2.421875 -6.234375 2.25 -6.234375 C 2.21875 -6.234375 1.9375 -6.234375 1.859375 -5.875 L 1.46875 -4.296875 L 0.53125 -4.296875 C 0.328125 -4.296875 0.234375 -4.296875 0.234375 -4.109375 C 0.234375 -3.984375 0.3125 -3.984375 0.515625 -3.984375 L 1.390625 -3.984375 C 0.671875 -1.15625 0.625 -0.984375 0.625 -0.8125 C 0.625 -0.265625 1 0.109375 1.546875 0.109375 C 2.5625 0.109375 3.125 -1.34375 3.125 -1.421875 C 3.125 -1.53125 3.046875 -1.53125 3.015625 -1.53125 C 2.921875 -1.53125 2.90625 -1.5 2.859375 -1.390625 C 2.4375 -0.34375 1.90625 -0.109375 1.5625 -0.109375 C 1.359375 -0.109375 1.25 -0.234375 1.25 -0.5625 C 1.25 -0.8125 1.28125 -0.875 1.3125 -1.046875 Z M 2.046875 -3.984375 \" style=\"stroke:none;\"/>\n",
       "</symbol>\n",
       "<symbol id=\"glyph3-0\" overflow=\"visible\">\n",
       "<path d=\"\" style=\"stroke:none;\"/>\n",
       "</symbol>\n",
       "<symbol id=\"glyph3-1\" overflow=\"visible\">\n",
       "<path d=\"M 2.265625 -4.359375 C 2.265625 -4.46875 2.171875 -4.625 1.984375 -4.625 C 1.796875 -4.625 1.59375 -4.4375 1.59375 -4.234375 C 1.59375 -4.125 1.671875 -3.96875 1.875 -3.96875 C 2.0625 -3.96875 2.265625 -4.171875 2.265625 -4.359375 Z M 0.84375 -0.8125 C 0.8125 -0.71875 0.78125 -0.640625 0.78125 -0.515625 C 0.78125 -0.1875 1.046875 0.0625 1.4375 0.0625 C 2.125 0.0625 2.4375 -0.890625 2.4375 -1 C 2.4375 -1.09375 2.34375 -1.09375 2.328125 -1.09375 C 2.234375 -1.09375 2.21875 -1.046875 2.1875 -0.96875 C 2.03125 -0.40625 1.734375 -0.125 1.453125 -0.125 C 1.3125 -0.125 1.28125 -0.21875 1.28125 -0.375 C 1.28125 -0.53125 1.328125 -0.65625 1.390625 -0.8125 C 1.46875 -1 1.546875 -1.1875 1.609375 -1.375 C 1.671875 -1.546875 1.9375 -2.171875 1.953125 -2.265625 C 1.984375 -2.328125 2 -2.40625 2 -2.484375 C 2 -2.8125 1.71875 -3.078125 1.34375 -3.078125 C 0.640625 -3.078125 0.328125 -2.125 0.328125 -2 C 0.328125 -1.921875 0.421875 -1.921875 0.453125 -1.921875 C 0.546875 -1.921875 0.546875 -1.953125 0.578125 -2.03125 C 0.75 -2.625 1.0625 -2.875 1.3125 -2.875 C 1.421875 -2.875 1.484375 -2.828125 1.484375 -2.640625 C 1.484375 -2.46875 1.453125 -2.375 1.28125 -1.9375 Z M 0.84375 -0.8125 \" style=\"stroke:none;\"/>\n",
       "</symbol>\n",
       "<symbol id=\"glyph3-2\" overflow=\"visible\">\n",
       "<path d=\"M 3.703125 -1.859375 C 3.703125 -2.625 3.125 -3.078125 2.4375 -3.078125 C 1.40625 -3.078125 0.4375 -2.109375 0.4375 -1.15625 C 0.4375 -0.453125 0.9375 0.0625 1.703125 0.0625 C 2.703125 0.0625 3.703125 -0.84375 3.703125 -1.859375 Z M 1.703125 -0.125 C 1.359375 -0.125 1.015625 -0.34375 1.015625 -0.90625 C 1.015625 -1.1875 1.140625 -1.875 1.421875 -2.265625 C 1.71875 -2.703125 2.125 -2.875 2.4375 -2.875 C 2.8125 -2.875 3.125 -2.625 3.125 -2.109375 C 3.125 -1.9375 3.046875 -1.25 2.734375 -0.765625 C 2.46875 -0.34375 2.0625 -0.125 1.703125 -0.125 Z M 1.703125 -0.125 \" style=\"stroke:none;\"/>\n",
       "</symbol>\n",
       "</g>\n",
       "<clipPath id=\"clip1\">\n",
       "  <path d=\"M 18 98 L 33 98 L 33 107.023438 L 18 107.023438 Z M 18 98 \"/>\n",
       "</clipPath>\n",
       "<clipPath id=\"clip2\">\n",
       "  <path d=\"M 194 103 L 197.558594 103 L 197.558594 107 L 194 107 Z M 194 103 \"/>\n",
       "</clipPath>\n",
       "<clipPath id=\"clip3\">\n",
       "  <path d=\"M 188 98 L 197.558594 98 L 197.558594 107.023438 L 188 107.023438 Z M 188 98 \"/>\n",
       "</clipPath>\n",
       "<clipPath id=\"clip4\">\n",
       "  <path d=\"M 194 18 L 197.558594 18 L 197.558594 22 L 194 22 Z M 194 18 \"/>\n",
       "</clipPath>\n",
       "<clipPath id=\"clip5\">\n",
       "  <path d=\"M 188 12 L 197.558594 12 L 197.558594 28 L 188 28 Z M 188 12 \"/>\n",
       "</clipPath>\n",
       "</defs>\n",
       "<g id=\"surface1\">\n",
       "<path d=\"M 0.0013125 0.001625 L 85.040375 0.001625 M 85.040375 0.001625 L 170.079437 0.001625 \" style=\"fill:none;stroke-width:0.3985;stroke-linecap:butt;stroke-linejoin:miter;stroke:rgb(0%,0%,0%);stroke-opacity:1;stroke-miterlimit:10;\" transform=\"matrix(1,0,0,-1,25.694,105.236)\"/>\n",
       "<path d=\"M 27.28125 105.234375 C 27.28125 104.359375 26.570312 103.648438 25.695312 103.648438 C 24.816406 103.648438 24.105469 104.359375 24.105469 105.234375 C 24.105469 106.113281 24.816406 106.824219 25.695312 106.824219 C 26.570312 106.824219 27.28125 106.113281 27.28125 105.234375 Z M 27.28125 105.234375 \" style=\" stroke:none;fill-rule:nonzero;fill:rgb(0%,0%,0%);fill-opacity:1;\"/>\n",
       "<g clip-path=\"url(#clip1)\" clip-rule=\"nonzero\">\n",
       "<path d=\"M 1.58725 0.001625 C 1.58725 0.876625 0.876312 1.587562 0.0013125 1.587562 C -0.877594 1.587562 -1.588531 0.876625 -1.588531 0.001625 C -1.588531 -0.877281 -0.877594 -1.588219 0.0013125 -1.588219 C 0.876312 -1.588219 1.58725 -0.877281 1.58725 0.001625 Z M 1.58725 0.001625 \" style=\"fill:none;stroke-width:0.3985;stroke-linecap:butt;stroke-linejoin:miter;stroke:rgb(0%,0%,0%);stroke-opacity:1;stroke-miterlimit:10;\" transform=\"matrix(1,0,0,-1,25.694,105.236)\"/>\n",
       "</g>\n",
       "<g clip-path=\"url(#clip2)\" clip-rule=\"nonzero\">\n",
       "<path d=\"M 197.363281 105.234375 C 197.363281 104.359375 196.652344 103.648438 195.773438 103.648438 C 194.898438 103.648438 194.1875 104.359375 194.1875 105.234375 C 194.1875 106.113281 194.898438 106.824219 195.773438 106.824219 C 196.652344 106.824219 197.363281 106.113281 197.363281 105.234375 Z M 197.363281 105.234375 \" style=\" stroke:none;fill-rule:nonzero;fill:rgb(0%,0%,0%);fill-opacity:1;\"/>\n",
       "</g>\n",
       "<g clip-path=\"url(#clip3)\" clip-rule=\"nonzero\">\n",
       "<path d=\"M 171.669281 0.001625 C 171.669281 0.876625 170.958344 1.587562 170.079437 1.587562 C 169.204437 1.587562 168.4935 0.876625 168.4935 0.001625 C 168.4935 -0.877281 169.204437 -1.588219 170.079437 -1.588219 C 170.958344 -1.588219 171.669281 -0.877281 171.669281 0.001625 Z M 171.669281 0.001625 \" style=\"fill:none;stroke-width:0.3985;stroke-linecap:butt;stroke-linejoin:miter;stroke:rgb(0%,0%,0%);stroke-opacity:1;stroke-miterlimit:10;\" transform=\"matrix(1,0,0,-1,25.694,105.236)\"/>\n",
       "</g>\n",
       "<path d=\"M 0.0013125 85.040687 L 14.173187 85.040687 M 14.173187 85.040687 L 28.345062 85.040687 M 28.345062 85.040687 L 54.9935 85.040687 M 86.739594 85.040687 L 113.388031 85.040687 M 113.388031 85.040687 L 141.735687 85.040687 M 141.735687 85.040687 L 170.079437 85.040687 \" style=\"fill:none;stroke-width:0.3985;stroke-linecap:butt;stroke-linejoin:miter;stroke:rgb(0%,0%,0%);stroke-opacity:1;stroke-miterlimit:10;\" transform=\"matrix(1,0,0,-1,25.694,105.236)\"/>\n",
       "<path d=\"M 1.58725 85.040687 C 1.58725 85.915687 0.876312 86.626625 0.0013125 86.626625 C -0.877594 86.626625 -1.588531 85.915687 -1.588531 85.040687 C -1.588531 84.165687 -0.877594 83.45475 0.0013125 83.45475 C 0.876312 83.45475 1.58725 84.165687 1.58725 85.040687 Z M 1.58725 85.040687 \" style=\"fill-rule:nonzero;fill:rgb(0%,0%,0%);fill-opacity:1;stroke-width:0.3985;stroke-linecap:butt;stroke-linejoin:miter;stroke:rgb(0%,0%,0%);stroke-opacity:1;stroke-miterlimit:10;\" transform=\"matrix(1,0,0,-1,25.694,105.236)\"/>\n",
       "<path d=\"M 54.9935 85.040687 L 57.638031 90.993812 L 62.931 79.087562 L 68.220062 90.993812 L 73.513031 79.087562 L 78.802094 90.993812 L 84.095062 79.087562 L 86.739594 85.040687 \" style=\"fill:none;stroke-width:0.797;stroke-linecap:butt;stroke-linejoin:miter;stroke:rgb(0%,0%,0%);stroke-opacity:1;stroke-miterlimit:10;\" transform=\"matrix(1,0,0,-1,25.694,105.236)\"/>\n",
       "<g style=\"fill:rgb(0%,0%,0%);fill-opacity:1;\">\n",
       "  <use x=\"92.893\" xlink:href=\"#glyph0-1\" y=\"10.128\"/>\n",
       "</g>\n",
       "<g clip-path=\"url(#clip4)\" clip-rule=\"nonzero\">\n",
       "<path d=\"M 197.363281 20.195312 C 197.363281 19.320312 196.652344 18.609375 195.773438 18.609375 C 194.898438 18.609375 194.1875 19.320312 194.1875 20.195312 C 194.1875 21.070312 194.898438 21.78125 195.773438 21.78125 C 196.652344 21.78125 197.363281 21.070312 197.363281 20.195312 Z M 197.363281 20.195312 \" style=\" stroke:none;fill-rule:nonzero;fill:rgb(0%,0%,0%);fill-opacity:1;\"/>\n",
       "</g>\n",
       "<g clip-path=\"url(#clip5)\" clip-rule=\"nonzero\">\n",
       "<path d=\"M 171.669281 85.040687 C 171.669281 85.915687 170.958344 86.626625 170.079437 86.626625 C 169.204437 86.626625 168.4935 85.915687 168.4935 85.040687 C 168.4935 84.165687 169.204437 83.45475 170.079437 83.45475 C 170.958344 83.45475 171.669281 84.165687 171.669281 85.040687 Z M 171.669281 85.040687 \" style=\"fill:none;stroke-width:0.3985;stroke-linecap:butt;stroke-linejoin:miter;stroke:rgb(0%,0%,0%);stroke-opacity:1;stroke-miterlimit:10;\" transform=\"matrix(1,0,0,-1,25.694,105.236)\"/>\n",
       "</g>\n",
       "<path d=\"M 113.388031 85.040687 L 113.388031 46.489906 M 113.388031 38.552406 L 113.388031 0.001625 \" style=\"fill:none;stroke-width:0.3985;stroke-linecap:butt;stroke-linejoin:miter;stroke:rgb(0%,0%,0%);stroke-opacity:1;stroke-miterlimit:10;\" transform=\"matrix(1,0,0,-1,25.694,105.236)\"/>\n",
       "<path d=\"M 125.294281 46.489906 L 101.481781 46.489906 M 125.294281 38.552406 L 101.481781 38.552406 \" style=\"fill:none;stroke-width:0.797;stroke-linecap:butt;stroke-linejoin:miter;stroke:rgb(0%,0%,0%);stroke-opacity:1;stroke-miterlimit:10;\" transform=\"matrix(1,0,0,-1,25.694,105.236)\"/>\n",
       "<g style=\"fill:rgb(0%,0%,0%);fill-opacity:1;\">\n",
       "  <use x=\"155.696\" xlink:href=\"#glyph0-2\" y=\"66.12\"/>\n",
       "</g>\n",
       "<g style=\"fill:rgb(0%,0%,0%);fill-opacity:1;\">\n",
       "  <use x=\"16.093\" xlink:href=\"#glyph1-1\" y=\"93.656\"/>\n",
       "</g>\n",
       "<g style=\"fill:rgb(0%,0%,0%);fill-opacity:1;\">\n",
       "  <use x=\"14.571\" xlink:href=\"#glyph0-3\" y=\"36.01\"/>\n",
       "</g>\n",
       "<g style=\"fill:rgb(0%,0%,0%);fill-opacity:1;\">\n",
       "  <use x=\"0\" xlink:href=\"#glyph2-1\" y=\"65.207\"/>\n",
       "</g>\n",
       "<g style=\"fill:rgb(0%,0%,0%);fill-opacity:1;\">\n",
       "  <use x=\"4.829\" xlink:href=\"#glyph3-1\" y=\"66.701\"/>\n",
       "</g>\n",
       "<g style=\"fill:rgb(0%,0%,0%);fill-opacity:1;\">\n",
       "  <use x=\"8.146\" xlink:href=\"#glyph0-4\" y=\"65.207\"/>\n",
       "</g>\n",
       "<g style=\"fill:rgb(0%,0%,0%);fill-opacity:1;\">\n",
       "  <use x=\"12.02\" xlink:href=\"#glyph2-2\" y=\"65.207\"/>\n",
       "</g>\n",
       "<g style=\"fill:rgb(0%,0%,0%);fill-opacity:1;\">\n",
       "  <use x=\"15.618\" xlink:href=\"#glyph0-5\" y=\"65.207\"/>\n",
       "</g>\n",
       "<g style=\"fill:rgb(0%,0%,0%);fill-opacity:1;\">\n",
       "  <use x=\"186.172\" xlink:href=\"#glyph1-1\" y=\"93.656\"/>\n",
       "</g>\n",
       "<g style=\"fill:rgb(0%,0%,0%);fill-opacity:1;\">\n",
       "  <use x=\"184.65\" xlink:href=\"#glyph0-3\" y=\"36.01\"/>\n",
       "</g>\n",
       "<g style=\"fill:rgb(0%,0%,0%);fill-opacity:1;\">\n",
       "  <use x=\"168.965\" xlink:href=\"#glyph2-1\" y=\"65.207\"/>\n",
       "</g>\n",
       "<g style=\"fill:rgb(0%,0%,0%);fill-opacity:1;\">\n",
       "  <use x=\"173.794\" xlink:href=\"#glyph3-2\" y=\"66.701\"/>\n",
       "</g>\n",
       "<g style=\"fill:rgb(0%,0%,0%);fill-opacity:1;\">\n",
       "  <use x=\"178.225\" xlink:href=\"#glyph0-4\" y=\"65.207\"/>\n",
       "</g>\n",
       "<g style=\"fill:rgb(0%,0%,0%);fill-opacity:1;\">\n",
       "  <use x=\"182.099\" xlink:href=\"#glyph2-2\" y=\"65.207\"/>\n",
       "</g>\n",
       "<g style=\"fill:rgb(0%,0%,0%);fill-opacity:1;\">\n",
       "  <use x=\"185.697\" xlink:href=\"#glyph0-5\" y=\"65.207\"/>\n",
       "</g>\n",
       "</g>\n",
       "</svg>"
      ]
     },
     "metadata": {
      "isolated": "true"
     },
     "output_type": "display_data"
    }
   ],
   "source": [
    "%%tikz -p circuitikz -f svg\n",
    "\\draw (0,0) to [short, *-*] (6,0);\n",
    "\\draw (0,3) to [short, *-] (1,3)\n",
    "to [R,l=R] (4,3) \n",
    "to [short, -*] (6,3);\n",
    "\\draw (4,3) to [C,l=C] (4,0);\n",
    "\\draw (0,0) to [open, american voltages, v^>=${v}_i(t)$] (0,3);\n",
    "\\draw (6,0) to [open, american voltages, v^>=${v}_o(t)$] (6,3);"
   ]
  },
  {
   "cell_type": "code",
   "execution_count": null,
   "metadata": {
    "collapsed": true
   },
   "outputs": [],
   "source": [
    "# Define System\n",
    "\n",
    "R = 1e3\n",
    "C = 1e-4\n",
    "τ = R * C\n",
    "sys = tf([1],[τ,1])"
   ]
  },
  {
   "cell_type": "code",
   "execution_count": 8,
   "metadata": {
    "collapsed": false
   },
   "outputs": [
    {
     "data": {
      "text/plain": [
       "<function matplotlib.pyplot.show>"
      ]
     },
     "execution_count": 8,
     "metadata": {},
     "output_type": "execute_result"
    },
    {
     "data": {
      "image/png": "[encoded data removed]",
      "text/plain": [
       "<matplotlib.figure.Figure at 0x7fb65af63400>"
      ]
     },
     "metadata": {},
     "output_type": "display_data"
    }
   ],
   "source": [
    "# Step Response\n",
    "%matplotlib inline\n",
    "\n",
    "t = np.linspace(0,2,500)\n",
    "ω = 5\n",
    "vi = np.ones(t.size)\n",
    "_, vo = control.step_response(sys,t)\n",
    "\n",
    "plt.plot(t,vi)\n",
    "plt.plot(t,vo)\n",
    "plt.xlabel(r't/sec')\n",
    "plt.ylabel(r'Voltage');\n",
    "plt.title(r'Step Response')\n",
    "plt.ylim(0,1.5)\n",
    "plt.show;"
   ]
  },
  {
   "cell_type": "code",
   "execution_count": 29,
   "metadata": {
    "collapsed": false,
    "nbpresent": {
     "id": "8b98af7b-2e55-45df-9605-e409db65eb02"
    },
    "scrolled": false
   },
   "outputs": [
    {
     "data": {
      "text/plain": [
       "<function matplotlib.pyplot.show>"
      ]
     },
     "execution_count": 29,
     "metadata": {},
     "output_type": "execute_result"
    },
    {
     "data": {
      "image/png": "[encoded data removed]",
      "text/plain": [
       "<matplotlib.figure.Figure at 0x7f65c608ce48>"
      ]
     },
     "metadata": {},
     "output_type": "display_data"
    }
   ],
   "source": [
    "# Frequency response for ω=5rad/s\n",
    "%matplotlib inline\n",
    "\n",
    "t = np.linspace(0,10,500)\n",
    "ω = 5\n",
    "vi = 2 * np.sin(ω * t+30*2*np.pi/360)\n",
    "_, vo, _ = control.forced_response(sys,t,vi)\n",
    "\n",
    "plt.plot(t,vi)\n",
    "plt.plot(t,vo)\n",
    "plt.xlabel(r't/sec')\n",
    "plt.ylabel(r'Voltage');\n",
    "plt.title(r'$\\omega$ = 5rad/s')\n",
    "plt.show;"
   ]
  },
  {
   "cell_type": "code",
   "execution_count": 28,
   "metadata": {
    "collapsed": false,
    "nbpresent": {
     "id": "330c27a0-2ee3-4f0e-8e33-3cb6f0ea6978"
    }
   },
   "outputs": [
    {
     "data": {
      "text/plain": [
       "<function matplotlib.pyplot.show>"
      ]
     },
     "execution_count": 28,
     "metadata": {},
     "output_type": "execute_result"
    },
    {
     "data": {
      "image/png": "[encoded data removed]",
      "text/plain": [
       "<matplotlib.figure.Figure at 0x7f65c53015f8>"
      ]
     },
     "metadata": {},
     "output_type": "display_data"
    }
   ],
   "source": [
    "# Frequency response for ω=50rad/s\n",
    "%matplotlib inline\n",
    "\n",
    "t = np.linspace(0,1,500)\n",
    "ω = 50\n",
    "vi = 2 * np.sin(ω * t+30*2*np.pi/360)\n",
    "_, vo, _ = control.forced_response(sys,t,vi)\n",
    "\n",
    "plt.plot(t,vi)\n",
    "plt.plot(t,vo)\n",
    "plt.xlabel(r't/sec')\n",
    "plt.ylabel(r'Voltage');\n",
    "plt.title(r'$\\omega$ = 50rad/s')\n",
    "plt.show;"
   ]
  },
  {
   "cell_type": "markdown",
   "metadata": {},
   "source": [
    "# Frequency Response\n",
    "\n",
    "The frequency response of a system is defined as the **steady-state response** of the system to **a sinusoidal input**.\n",
    "\n",
    "## How to get frequency response\n",
    "- The frequency response can be derived from transfer functions\n",
    "- The frequency response of complex systems can be obtained experimentally\n",
    "- In fact, for an unknown system, usually we get its transfer function from the frequency response.\n",
    "\n",
    "## Why do we need frequency response\n",
    "- The frequency response of a complex system can be derived from the response of simple systems (Bode Plot). \n",
    "- The stability of the closed-loop system is determined by the frequency response of the open-loop system (Nyquist Stability Criterion)\n",
    "- Controller design can be carried out ** in an intuitive fashion** by shaping the frequency response of the open-loop systems (Lag, Lead, PID controller Design)\n",
    "\n"
   ]
  },
  {
   "cell_type": "markdown",
   "metadata": {
    "collapsed": true,
    "slideshow": {
     "slide_type": "-"
    }
   },
   "source": [
    "# How to get Frequency Response from Transfer Function\n",
    "\n",
    "+ Consider a stable system:\n",
    "\\begin{align*}\n",
    "  G(s) = \\frac{a(s)}{b(s)}=\\frac{a(s)}{(s+p_1)\\dots(s+p_n)},\n",
    "\\end{align*}\n",
    "where $p_i$ are assumed to be distinct poles.\n",
    "\n",
    "+ Consider the input \n",
    "\\begin{align*}\n",
    "r(t) = A \\exp\\left[j\\omega t\\right] = A\\cos(\\omega t + \\phi)+jA\\sin(\\omega t+\\phi).\n",
    "\\end{align*}\n",
    "whose Laplace transform is \n",
    "\\begin{align*}\n",
    "R(s) = A\\exp(j\\phi)\\frac{1}{s-j\\omega}.\n",
    "\\end{align*}\n",
    "\n",
    "\n",
    "+ The output is given by\n",
    "\\begin{align*}\n",
    "  Y(s) &= G(s)R(s) \\\\\n",
    "       &=  \\frac{a(s)}{(s+p_1)\\dots(s+p_n)}\\times \\frac{A\\exp(j\\phi)}{s-j\\omega} \\\\\n",
    "       &=\\frac{k_1}{s+p_1}+\\frac{k_2}{s+p_2}+\\dots+\\frac{k_n}{s+p_n} + \\frac{\\alpha}{s-j\\omega}. \n",
    "\\end{align*}\n",
    "\n",
    "+ If we multiply the LHS and RHS of the equation by $s-j\\omega$ and take the limit $s\\rightarrow j\\omega$, we get\n",
    "\n",
    "\\begin{align*}\n",
    "  \\lim_{s\\rightarrow -j\\omega}G(s)R(s) = A\\exp(j\\phi)G(j\\omega) = A|G(j\\omega)|\\times e^{j(\\phi + \\angle G(j\\omega))} = \\alpha.\n",
    "\\end{align*}\n",
    "\n",
    "+ Therefore, the response of the system can be written as\n",
    "\\begin{align*}\n",
    "y(t) &= k_1e^{-p_1t}+\\dots+k_ne^{-p_nt} \\\\\n",
    "&+ A|G(j\\omega)|\\cos(\\omega t + \\phi + \\angle G(j\\omega))\\\\ \n",
    "&+j A|G(j\\omega)|\\sin(\\omega t + \\phi + \\angle G(j\\omega)).\n",
    "\\end{align*}\n",
    "\n",
    "+ If we input $r(t) = A\\sin(\\omega t + \\phi)$, then the steady-state output will be \n",
    "\\begin{align*}\n",
    "y_{ss}(t) =  A|G(j\\omega)|\\sin(\\omega t + \\phi + \\angle G(j\\omega)).\n",
    "\\end{align*}\n",
    "\n",
    "+ The steady-state response of a sinusoidal signal is another sinusoidal signal, where\n",
    "    1. The frequency is the same.\n",
    "    2. The amplitude is $A\\times |G(j\\omega)|$.\n",
    "    3. The phase is $\\phi + \\angle G(j\\omega)$.\n",
    "    \n",
    "+ $|G (j\\omega)|$ and $\\angle G(j\\omega)$ are frequency dependent and are referred to as the magnitude and phase responses of the system, respectively."
   ]
  },
  {
   "cell_type": "markdown",
   "metadata": {
    "collapsed": true
   },
   "source": [
    "# Example\n",
    "\n",
    "**Question**: Consider the RC-network with transfer function\n",
    "\\begin{align*}\n",
    "G(s) = \\frac{1}{0.1s+1}.\n",
    "\\end{align*}\n",
    "Find the steady state output due to the input $r(t) = 2\\sin(\\omega t+ 30^\\circ)$.\n",
    "\n",
    "**Solution**: \n",
    "+ Notice that\n",
    "\\begin{align*}\n",
    "0.1j\\omega + 1 = \\sqrt{1+0.01\\omega^2}\\angle \\tan^{-1}(0.1\\omega).\n",
    "\\end{align*}\n",
    "+ Thereofre\n",
    "\\begin{align*}\n",
    "G(j\\omega) = \\frac{1}{\\sqrt{1+0.01\\omega^2}}\\angle -\\tan^{-1}(0.1\\omega).\n",
    "\\end{align*}\n",
    "+ Hence, the response to $r(t)$ is\n",
    "\\begin{align*}\n",
    "y_{ss}(t) =  \\frac{2}{\\sqrt{1+0.01\\omega^2}}\\sin\\left[\\omega t+30^\\circ -\\tan^{-1}(0.1\\omega)\\right].\n",
    "\\end{align*}\n",
    "+ For $\\omega  = 5$, $|G(j5)| = 0.8944$, $\\angle G(j5) = -26.6^\\circ$.\n",
    "\\begin{align*}\n",
    "y_{ss}(t) = 1.7888\\sin(5t+3.4^\\circ).\n",
    "\\end{align*}\n",
    "+ For $\\omega  = 50$, $|G(j5)| = 0.1961$, $\\angle G(j5) = -78.7^\\circ$.\n",
    "\\begin{align*}\n",
    "y_{ss}(t) = 0.3922\\sin(50t-48.7^\\circ).\n",
    "\\end{align*}"
   ]
  },
  {
   "cell_type": "markdown",
   "metadata": {},
   "source": [
    "# Bode and Nyquist Plot\n",
    "\n",
    "- From the analysis above, $G(j\\omega)$ plays a key role in frequency response. \n",
    "- To visualize $G(j\\omega)$, the following plots are typically used\n",
    "    1. Bode Plots: Bode Magnitude Plot + Bode Phase Plot\n",
    "    2. Nyquist Plots"
   ]
  },
  {
   "cell_type": "code",
   "execution_count": 14,
   "metadata": {
    "collapsed": false
   },
   "outputs": [
    {
     "data": {
      "image/png": "[encoded data removed]",
      "text/plain": [
       "<matplotlib.figure.Figure at 0x7fb1dbd74ba8>"
      ]
     },
     "metadata": {},
     "output_type": "display_data"
    }
   ],
   "source": [
    "# Bode Plot\n",
    "%matplotlib inline\n",
    "\n",
    "control.bode_plot(sys);"
   ]
  },
  {
   "cell_type": "code",
   "execution_count": 10,
   "metadata": {
    "collapsed": false
   },
   "outputs": [
    {
     "data": {
      "image/png": "[encoded data removed]",
      "text/plain": [
       "<matplotlib.figure.Figure at 0x7fb1dbe702b0>"
      ]
     },
     "metadata": {},
     "output_type": "display_data"
    }
   ],
   "source": [
    "# Nyquist Plot\n",
    "%matplotlib inline\n",
    "\n",
    "control.nyquist_plot(sys, omega = [1e-2, 1e3]);"
   ]
  },
  {
   "cell_type": "markdown",
   "metadata": {},
   "source": [
    "# Real World Example\n",
    "\n",
    "![VCM](https://www.researchgate.net/profile/Chunling_Du/publication/224089426/figure/fig3/AS:302745262280715@1449191504173/Figure-3-HDD-with-a-VCM-actuator.png)\n",
    "\n",
    "![Frequency Response](https://www.researchgate.net/profile/Chunling_Du/publication/224089426/figure/fig4/AS:302745266475011@1449191504229/Figure-4-Frequency-responses-of-the-VCM-actuator-LDV-range-2-m-m-V.png)"
   ]
  },
  {
   "cell_type": "markdown",
   "metadata": {},
   "source": [
    "# Hendrik Wade Bode(1905 - 1982)\n",
    "![Bode](https://upload.wikimedia.org/wikipedia/en/a/a5/Hendrik_Wade_Bode.png)\n",
    "- A pioneer of modern control theory and electronic telecommunications.  \n",
    "- He made important contributions to the design, guidance and control of anti-aircraft systems during World War II \n",
    "- During the Cold War, he also made significant contributions to the design and control of missiles and anti-ballistic missiles. \n",
    "- Contributions to control system theory and mathematical tools for the analysis of stability of linear systems, inventing **Bode plots**, **gain margin** and **phase margin**. \n",
    "- Worked in Bell Lab from 1926 to 1967. Became a professor at Harvard after retiring from Bell Lab."
   ]
  },
  {
   "cell_type": "markdown",
   "metadata": {
    "collapsed": true
   },
   "source": [
    "# Harry Nyquist (1889 - 1976)\n",
    "![Nyquist](https://upload.wikimedia.org/wikipedia/en/b/b4/Harry_Nyquist.jpg)\n",
    "- Worked in Bell Lab from 1917 to 1954.\n",
    "- Received the IEEE Medal of Honor in 1960 for \"**fundamental contributions to a quantitative understanding of thermal noise, data transmission and negative feedback**.\"\n",
    "- Received the National Academy of Engineering's fourth Founder's Medal \"**in recognition of his many fundamental contributions to engineering.**\" "
   ]
  },
  {
   "cell_type": "markdown",
   "metadata": {},
   "source": [
    "# Summary\n",
    "\n",
    "The frequency response of a system is defined as the **steady-state response** of the system to **a sinusoidal input**.\n",
    "\n",
    "It is another sinusoidal signal, where\n",
    "1. The frequency is the same.\n",
    "2. The amplitude is $A\\times |G(j\\omega)|$.\n",
    "3. The phase is $\\phi + \\angle G(j\\omega)$."
   ]
  },
  {
   "cell_type": "code",
   "execution_count": 18,
   "metadata": {
    "collapsed": false
   },
   "outputs": [
    {
     "data": {
      "image/png": "[encoded data removed]"
     },
     "metadata": {},
     "output_type": "display_data"
    }
   ],
   "source": [
    "%%tikz -l matrix,arrows\n",
    "\n",
    "\\tikzstyle{point} = [coordinate]\n",
    "\\tikzstyle{box} = [rectangle, draw, semithick]\n",
    "\\matrix[row sep = 10mm, column sep = 6mm]{\n",
    "\\node (p1) [] {$A\\sin(\\omega t + \\phi)$};&\n",
    "\\node (plant) [box] {$G(s)$};&\n",
    "\\node (p2) [] {$A|G(j\\omega)|\\sin(\\omega t + \\phi+\\angle G(j\\omega))$};\\\\\n",
    "};\n",
    "\\draw [semithick,-stealth'] (p1)--(plant);\n",
    "\\draw [semithick,-stealth'] (plant)--(p2);\n"
   ]
  },
  {
   "cell_type": "code",
   "execution_count": null,
   "metadata": {
    "collapsed": true
   },
   "outputs": [],
   "source": []
  }
 ],
 "metadata": {
  "anaconda-cloud": {},
  "celltoolbar": "Edit Metadata",
  "kernelspec": {
   "display_name": "Python [conda root]",
   "language": "python",
   "name": "conda-root-py"
  },
  "language_info": {
   "codemirror_mode": {
    "name": "ipython",
    "version": 3
   },
   "file_extension": ".py",
   "mimetype": "text/x-python",
   "name": "python",
   "nbconvert_exporter": "python",
   "pygments_lexer": "ipython3",
   "version": "3.5.2"
  },
  "nbpresent": {
   "slides": {},
   "themes": {
    "default": "1a6af51c-072c-4f8d-ab08-9f916c548f5a",
    "theme": {
     "1a6af51c-072c-4f8d-ab08-9f916c548f5a": {
      "id": "1a6af51c-072c-4f8d-ab08-9f916c548f5a",
      "palette": {
       "19cc588f-0593-49c9-9f4b-e4d7cc113b1c": {
        "id": "19cc588f-0593-49c9-9f4b-e4d7cc113b1c",
        "rgb": [
         252,
         252,
         252
        ]
       },
       "31af15d2-7e15-44c5-ab5e-e04b16a89eff": {
        "id": "31af15d2-7e15-44c5-ab5e-e04b16a89eff",
        "rgb": [
         68,
         68,
         68
        ]
       },
       "50f92c45-a630-455b-aec3-788680ec7410": {
        "id": "50f92c45-a630-455b-aec3-788680ec7410",
        "rgb": [
         155,
         177,
         192
        ]
       },
       "c5cc3653-2ee1-402a-aba2-7caae1da4f6c": {
        "id": "c5cc3653-2ee1-402a-aba2-7caae1da4f6c",
        "rgb": [
         43,
         126,
         184
        ]
       },
       "efa7f048-9acb-414c-8b04-a26811511a21": {
        "id": "efa7f048-9acb-414c-8b04-a26811511a21",
        "rgb": [
         25.118061674008803,
         73.60176211453744,
         107.4819383259912
        ]
       }
      },
      "rules": {
       "blockquote": {
        "color": "50f92c45-a630-455b-aec3-788680ec7410"
       },
       "code": {
        "font-family": "Anonymous Pro"
       },
       "h1": {
        "color": "c5cc3653-2ee1-402a-aba2-7caae1da4f6c",
        "font-family": "Lato",
        "font-size": 8
       },
       "h2": {
        "color": "c5cc3653-2ee1-402a-aba2-7caae1da4f6c",
        "font-family": "Lato",
        "font-size": 6
       },
       "h3": {
        "color": "50f92c45-a630-455b-aec3-788680ec7410",
        "font-family": "Lato",
        "font-size": 5.5
       },
       "h4": {
        "color": "c5cc3653-2ee1-402a-aba2-7caae1da4f6c",
        "font-family": "Lato",
        "font-size": 5
       },
       "h5": {
        "font-family": "Lato"
       },
       "h6": {
        "font-family": "Lato"
       },
       "h7": {
        "font-family": "Lato"
       },
       "pre": {
        "font-family": "Anonymous Pro",
        "font-size": 4
       }
      },
      "text-base": {
       "font-family": "Merriweather",
       "font-size": 4
      }
     },
     "3a266c0f-41e7-4df9-8716-8bdf7c65b6b8": {
      "id": "3a266c0f-41e7-4df9-8716-8bdf7c65b6b8",
      "palette": {
       "19cc588f-0593-49c9-9f4b-e4d7cc113b1c": {
        "id": "19cc588f-0593-49c9-9f4b-e4d7cc113b1c",
        "rgb": [
         252,
         252,
         252
        ]
       },
       "31af15d2-7e15-44c5-ab5e-e04b16a89eff": {
        "id": "31af15d2-7e15-44c5-ab5e-e04b16a89eff",
        "rgb": [
         68,
         68,
         68
        ]
       },
       "50f92c45-a630-455b-aec3-788680ec7410": {
        "id": "50f92c45-a630-455b-aec3-788680ec7410",
        "rgb": [
         155,
         177,
         192
        ]
       },
       "c5cc3653-2ee1-402a-aba2-7caae1da4f6c": {
        "id": "c5cc3653-2ee1-402a-aba2-7caae1da4f6c",
        "rgb": [
         43,
         126,
         184
        ]
       },
       "efa7f048-9acb-414c-8b04-a26811511a21": {
        "id": "efa7f048-9acb-414c-8b04-a26811511a21",
        "rgb": [
         25.118061674008803,
         73.60176211453744,
         107.4819383259912
        ]
       }
      },
      "rules": {
       "blockquote": {
        "color": "50f92c45-a630-455b-aec3-788680ec7410"
       },
       "code": {
        "font-family": "Anonymous Pro"
       },
       "h1": {
        "color": "c5cc3653-2ee1-402a-aba2-7caae1da4f6c",
        "font-family": "Lato",
        "font-size": 8
       },
       "h2": {
        "color": "c5cc3653-2ee1-402a-aba2-7caae1da4f6c",
        "font-family": "Lato",
        "font-size": 6
       },
       "h3": {
        "color": "50f92c45-a630-455b-aec3-788680ec7410",
        "font-family": "Lato",
        "font-size": 5.5
       },
       "h4": {
        "color": "c5cc3653-2ee1-402a-aba2-7caae1da4f6c",
        "font-family": "Lato",
        "font-size": 5
       },
       "h5": {
        "font-family": "Lato"
       },
       "h6": {
        "font-family": "Lato"
       },
       "h7": {
        "font-family": "Lato"
       },
       "pre": {
        "font-family": "Anonymous Pro",
        "font-size": 4
       }
      },
      "text-base": {
       "font-family": "Merriweather",
       "font-size": 4
      }
     },
     "65e4e427-ae02-4918-8330-5f336713c7fc": {
      "backgrounds": {
       "dc7afa04-bf90-40b1-82a5-726e3cff5267": {
        "background-color": "31af15d2-7e15-44c5-ab5e-e04b16a89eff",
        "id": "dc7afa04-bf90-40b1-82a5-726e3cff5267"
       }
      },
      "id": "65e4e427-ae02-4918-8330-5f336713c7fc",
      "palette": {
       "19cc588f-0593-49c9-9f4b-e4d7cc113b1c": {
        "id": "19cc588f-0593-49c9-9f4b-e4d7cc113b1c",
        "rgb": [
         252,
         252,
         252
        ]
       },
       "31af15d2-7e15-44c5-ab5e-e04b16a89eff": {
        "id": "31af15d2-7e15-44c5-ab5e-e04b16a89eff",
        "rgb": [
         68,
         68,
         68
        ]
       },
       "50f92c45-a630-455b-aec3-788680ec7410": {
        "id": "50f92c45-a630-455b-aec3-788680ec7410",
        "rgb": [
         197,
         226,
         245
        ]
       },
       "c5cc3653-2ee1-402a-aba2-7caae1da4f6c": {
        "id": "c5cc3653-2ee1-402a-aba2-7caae1da4f6c",
        "rgb": [
         43,
         126,
         184
        ]
       },
       "efa7f048-9acb-414c-8b04-a26811511a21": {
        "id": "efa7f048-9acb-414c-8b04-a26811511a21",
        "rgb": [
         25.118061674008803,
         73.60176211453744,
         107.4819383259912
        ]
       }
      },
      "rules": {
       "a": {
        "color": "19cc588f-0593-49c9-9f4b-e4d7cc113b1c"
       },
       "blockquote": {
        "color": "50f92c45-a630-455b-aec3-788680ec7410",
        "font-size": 3
       },
       "code": {
        "font-family": "Anonymous Pro"
       },
       "h1": {
        "color": "19cc588f-0593-49c9-9f4b-e4d7cc113b1c",
        "font-family": "Merriweather",
        "font-size": 8
       },
       "h2": {
        "color": "19cc588f-0593-49c9-9f4b-e4d7cc113b1c",
        "font-family": "Merriweather",
        "font-size": 6
       },
       "h3": {
        "color": "50f92c45-a630-455b-aec3-788680ec7410",
        "font-family": "Lato",
        "font-size": 5.5
       },
       "h4": {
        "color": "c5cc3653-2ee1-402a-aba2-7caae1da4f6c",
        "font-family": "Lato",
        "font-size": 5
       },
       "h5": {
        "font-family": "Lato"
       },
       "h6": {
        "font-family": "Lato"
       },
       "h7": {
        "font-family": "Lato"
       },
       "li": {
        "color": "50f92c45-a630-455b-aec3-788680ec7410",
        "font-size": 3.25
       },
       "pre": {
        "font-family": "Anonymous Pro",
        "font-size": 4
       }
      },
      "text-base": {
       "color": "19cc588f-0593-49c9-9f4b-e4d7cc113b1c",
       "font-family": "Lato",
       "font-size": 4
      }
     },
     "8c5bb27d-b10a-43be-b8a6-e89053b0ac0e": {
      "backgrounds": {
       "dc7afa04-bf90-40b1-82a5-726e3cff5267": {
        "background-color": "31af15d2-7e15-44c5-ab5e-e04b16a89eff",
        "id": "dc7afa04-bf90-40b1-82a5-726e3cff5267"
       }
      },
      "id": "8c5bb27d-b10a-43be-b8a6-e89053b0ac0e",
      "palette": {
       "19cc588f-0593-49c9-9f4b-e4d7cc113b1c": {
        "id": "19cc588f-0593-49c9-9f4b-e4d7cc113b1c",
        "rgb": [
         252,
         252,
         252
        ]
       },
       "31af15d2-7e15-44c5-ab5e-e04b16a89eff": {
        "id": "31af15d2-7e15-44c5-ab5e-e04b16a89eff",
        "rgb": [
         68,
         68,
         68
        ]
       },
       "50f92c45-a630-455b-aec3-788680ec7410": {
        "id": "50f92c45-a630-455b-aec3-788680ec7410",
        "rgb": [
         197,
         226,
         245
        ]
       },
       "c5cc3653-2ee1-402a-aba2-7caae1da4f6c": {
        "id": "c5cc3653-2ee1-402a-aba2-7caae1da4f6c",
        "rgb": [
         43,
         126,
         184
        ]
       },
       "efa7f048-9acb-414c-8b04-a26811511a21": {
        "id": "efa7f048-9acb-414c-8b04-a26811511a21",
        "rgb": [
         25.118061674008803,
         73.60176211453744,
         107.4819383259912
        ]
       }
      },
      "rules": {
       "a": {
        "color": "19cc588f-0593-49c9-9f4b-e4d7cc113b1c"
       },
       "blockquote": {
        "color": "50f92c45-a630-455b-aec3-788680ec7410",
        "font-size": 3
       },
       "code": {
        "font-family": "Anonymous Pro"
       },
       "h1": {
        "color": "19cc588f-0593-49c9-9f4b-e4d7cc113b1c",
        "font-family": "Merriweather",
        "font-size": 8
       },
       "h2": {
        "color": "19cc588f-0593-49c9-9f4b-e4d7cc113b1c",
        "font-family": "Merriweather",
        "font-size": 6
       },
       "h3": {
        "color": "50f92c45-a630-455b-aec3-788680ec7410",
        "font-family": "Lato",
        "font-size": 5.5
       },
       "h4": {
        "color": "c5cc3653-2ee1-402a-aba2-7caae1da4f6c",
        "font-family": "Lato",
        "font-size": 5
       },
       "h5": {
        "font-family": "Lato"
       },
       "h6": {
        "font-family": "Lato"
       },
       "h7": {
        "font-family": "Lato"
       },
       "li": {
        "color": "50f92c45-a630-455b-aec3-788680ec7410",
        "font-size": 3.25
       },
       "pre": {
        "font-family": "Anonymous Pro",
        "font-size": 4
       }
      },
      "text-base": {
       "color": "19cc588f-0593-49c9-9f4b-e4d7cc113b1c",
       "font-family": "Lato",
       "font-size": 4
      }
     },
     "b69ac6f3-3480-443a-8329-6fa83498004b": {
      "id": "b69ac6f3-3480-443a-8329-6fa83498004b",
      "palette": {
       "19cc588f-0593-49c9-9f4b-e4d7cc113b1c": {
        "id": "19cc588f-0593-49c9-9f4b-e4d7cc113b1c",
        "rgb": [
         252,
         252,
         252
        ]
       },
       "31af15d2-7e15-44c5-ab5e-e04b16a89eff": {
        "id": "31af15d2-7e15-44c5-ab5e-e04b16a89eff",
        "rgb": [
         68,
         68,
         68
        ]
       },
       "50f92c45-a630-455b-aec3-788680ec7410": {
        "id": "50f92c45-a630-455b-aec3-788680ec7410",
        "rgb": [
         155,
         177,
         192
        ]
       },
       "c5cc3653-2ee1-402a-aba2-7caae1da4f6c": {
        "id": "c5cc3653-2ee1-402a-aba2-7caae1da4f6c",
        "rgb": [
         43,
         126,
         184
        ]
       },
       "efa7f048-9acb-414c-8b04-a26811511a21": {
        "id": "efa7f048-9acb-414c-8b04-a26811511a21",
        "rgb": [
         25.118061674008803,
         73.60176211453744,
         107.4819383259912
        ]
       }
      },
      "rules": {
       "blockquote": {
        "color": "50f92c45-a630-455b-aec3-788680ec7410"
       },
       "code": {
        "font-family": "Anonymous Pro"
       },
       "h1": {
        "color": "c5cc3653-2ee1-402a-aba2-7caae1da4f6c",
        "font-family": "Lato",
        "font-size": 8
       },
       "h2": {
        "color": "c5cc3653-2ee1-402a-aba2-7caae1da4f6c",
        "font-family": "Lato",
        "font-size": 6
       },
       "h3": {
        "color": "50f92c45-a630-455b-aec3-788680ec7410",
        "font-family": "Lato",
        "font-size": 5.5
       },
       "h4": {
        "color": "c5cc3653-2ee1-402a-aba2-7caae1da4f6c",
        "font-family": "Lato",
        "font-size": 5
       },
       "h5": {
        "font-family": "Lato"
       },
       "h6": {
        "font-family": "Lato"
       },
       "h7": {
        "font-family": "Lato"
       },
       "pre": {
        "font-family": "Anonymous Pro",
        "font-size": 4
       }
      },
      "text-base": {
       "font-family": "Merriweather",
       "font-size": 4
      }
     }
    }
   }
  }
 },
 "nbformat": 4,
 "nbformat_minor": 1
}
